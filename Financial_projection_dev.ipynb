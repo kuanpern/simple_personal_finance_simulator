{
 "cells": [
  {
   "cell_type": "code",
   "execution_count": 121,
   "metadata": {},
   "outputs": [],
   "source": [
    "import datetime\n",
    "import numpy as np\n",
    "import pandas as pd\n",
    "import dateutil\n",
    "import copy\n",
    "import matplotlib.pyplot as plt\n",
    "%matplotlib inline"
   ]
  },
  {
   "cell_type": "code",
   "execution_count": 2,
   "metadata": {},
   "outputs": [],
   "source": [
    "class RateConverter:\n",
    "    def mu_month2year(r):\n",
    "        return np.power(r, 12)\n",
    "    # end def\n",
    "    \n",
    "    def mu_year2month(R):\n",
    "        return np.exp(np.log(R) / 12)\n",
    "    # end def\n",
    "    \n",
    "    def std_month2year(s):\n",
    "        return s*np.sqrt(12)\n",
    "    # end def\n",
    "    \n",
    "    def std_year2month(S):\n",
    "        return S/np.sqrt(12)\n",
    "    # end def    \n",
    "# end class"
   ]
  },
  {
   "cell_type": "code",
   "execution_count": 4,
   "metadata": {},
   "outputs": [],
   "source": [
    "def startOfMonth(dt):\n",
    "    return datetime.datetime(dt.year, dt.month, 1)\n",
    "# end def     "
   ]
  },
  {
   "cell_type": "code",
   "execution_count": 5,
   "metadata": {},
   "outputs": [],
   "source": [
    "class GeneralAccount:\n",
    "    def __init__(self, account_type, name, balance, rate_mu, rate_std=0, start_date='now'):\n",
    "        self.account_type = account_type\n",
    "        self._counter = 0\n",
    "        # montly simulation\n",
    "        self.month_delta = dateutil.relativedelta.relativedelta(months=1)\n",
    "        \n",
    "        # declare memory\n",
    "        self.history = []\n",
    "        self.name = name\n",
    "\n",
    "        # read inputs\n",
    "        # - convert yearly rate to monthly rate\n",
    "        self.Rate_mu  = rate_mu\n",
    "        self.rate_mu  = RateConverter.mu_year2month(self.Rate_mu)\n",
    "        self.Rate_std = rate_std\n",
    "        self.rate_std = RateConverter.std_year2month(self.Rate_std)\n",
    "        self._rate = np.random.normal(self.rate_mu, self.rate_std, 1)[0]\n",
    "        \n",
    "        self.balance = balance\n",
    "        if start_date == 'now':\n",
    "            dt = datetime.datetime.now()\n",
    "            self.start_date = startOfMonth(dt)\n",
    "        # end if\n",
    "        self.timepoint = self.start_date\n",
    "        \n",
    "        self.commit()\n",
    "    # end def\n",
    "\n",
    "    def run(self): # run for one month\n",
    "        self._counter += 1\n",
    "        \n",
    "        self.timepoint += self.month_delta\n",
    "        self._rate = np.random.normal(self.rate_mu, self.rate_std, 1)[0]\n",
    "        \n",
    "        self.balance = self.balance * self._rate\n",
    "        self.commit()\n",
    "    # end def\n",
    "    \n",
    "    def commit(self):\n",
    "        self.history.append({\n",
    "            'time': self.timepoint,\n",
    "            'rate': self._rate,\n",
    "            'counter': self._counter,\n",
    "            'balance': self.balance\n",
    "        }) # end history\n",
    "    # end def\n",
    "# end class"
   ]
  },
  {
   "cell_type": "code",
   "execution_count": 6,
   "metadata": {},
   "outputs": [],
   "source": [
    "class LoanAccount(GeneralAccount):\n",
    "    def __init__(self, name, balance, rate, default_payment, start_date='now'):\n",
    "        super().__init__(account_type='Loan', name=name, balance=balance, rate_mu=rate, start_date=start_date)\n",
    "        self.default_payment = default_payment\n",
    "    # end def\n",
    "    \n",
    "    def get_instalment_payment(self):\n",
    "        return min(self.default_payment, self.balance)\n",
    "    # end def\n",
    "    \n",
    "    def pay_instalment(self, amount):\n",
    "        self.balance -= amount\n",
    "        self._counter += 1\n",
    "        self.commit()\n",
    "    # end def\n",
    "# end class"
   ]
  },
  {
   "cell_type": "code",
   "execution_count": 47,
   "metadata": {},
   "outputs": [],
   "source": [
    "class InvestmentAccount(GeneralAccount):\n",
    "    def __init__(self, name, balance, rate_mu, rate_std, start_date='now'):\n",
    "        super().__init__(account_type='Investment', name=name, balance=balance, rate_mu=rate_mu, rate_std=rate_std, start_date=start_date)\n",
    "    # end def\n",
    "    \n",
    "    def deposit(self, amount):\n",
    "        assert amount >= 0\n",
    "        self.balance += amount\n",
    "        self._counter += 1\n",
    "        self.commit()\n",
    "    # end def\n",
    "    \n",
    "    def withdraw(self, amount):\n",
    "        if self.balance < amount:\n",
    "            _timept = self.timepoint.isoformat().split('T')[0]\n",
    "            raise ValueError('[%s @ %s] Withdrawal amount more than account balance' % (self.name, _timept,))\n",
    "        # end if\n",
    "        self.balance -= amount\n",
    "        self._counter += 1\n",
    "        self.commit()\n",
    "    # end def\n",
    "# end class"
   ]
  },
  {
   "cell_type": "code",
   "execution_count": 49,
   "metadata": {},
   "outputs": [],
   "source": [
    "class SavingAccount(InvestmentAccount):\n",
    "    def __init__(self, name, balance, rate, start_date='now'):\n",
    "        super().__init__(name, balance, rate_mu=rate, rate_std=0, start_date=start_date)\n",
    "        self.account_type = 'Saving'\n",
    "    # end def\n",
    "# end class"
   ]
  },
  {
   "cell_type": "code",
   "execution_count": null,
   "metadata": {},
   "outputs": [],
   "source": []
  },
  {
   "cell_type": "code",
   "execution_count": 102,
   "metadata": {},
   "outputs": [],
   "source": [
    "Current_account = SavingAccount(name='Equity', balance=176000, rate=1.000)"
   ]
  },
  {
   "cell_type": "code",
   "execution_count": 103,
   "metadata": {},
   "outputs": [],
   "source": [
    "TFL_loan = LoanAccount(name='Tuition Fee Loan', balance=2500, rate=1.0475, default_payment=4200/12)"
   ]
  },
  {
   "cell_type": "code",
   "execution_count": 104,
   "metadata": {},
   "outputs": [],
   "source": [
    "Dad_loan = LoanAccount(name=\"Dad's Loan\", balance=100000, rate=1.023, default_payment=2300/12)"
   ]
  },
  {
   "cell_type": "code",
   "execution_count": 105,
   "metadata": {},
   "outputs": [],
   "source": [
    "Salary = GeneralAccount(name='Salary', account_type='income', balance=72000/12, rate_mu=1.0395)"
   ]
  },
  {
   "cell_type": "code",
   "execution_count": 106,
   "metadata": {},
   "outputs": [],
   "source": [
    "Expense = GeneralAccount(name='Expense', account_type='expense', balance=17400/12, rate_mu=1.0285)"
   ]
  },
  {
   "cell_type": "code",
   "execution_count": 107,
   "metadata": {},
   "outputs": [],
   "source": [
    "Cash_reserve = GeneralAccount(name='Cash Reserve', account_type='reserve', balance=5000, rate_mu=1.0285)"
   ]
  },
  {
   "cell_type": "code",
   "execution_count": 108,
   "metadata": {},
   "outputs": [],
   "source": [
    "Stock_market = InvestmentAccount(name='Stock', balance=0, rate_mu=1.115, rate_std=0)"
   ]
  },
  {
   "cell_type": "code",
   "execution_count": 109,
   "metadata": {},
   "outputs": [],
   "source": [
    "Bond_market = InvestmentAccount(name='Bond', balance=0, rate_mu=1.025, rate_std=0)"
   ]
  },
  {
   "cell_type": "code",
   "execution_count": null,
   "metadata": {},
   "outputs": [],
   "source": []
  },
  {
   "cell_type": "code",
   "execution_count": 110,
   "metadata": {},
   "outputs": [],
   "source": [
    "class allocator_template:\n",
    "    def __init__(self, name):\n",
    "        self.name = name\n",
    "    # end def\n",
    "    \n",
    "    def allocate(self, amount):\n",
    "        raise NotImplementedError('allocate method is not implemented')\n",
    "    # end def\n",
    "# end class"
   ]
  },
  {
   "cell_type": "code",
   "execution_count": 111,
   "metadata": {},
   "outputs": [],
   "source": [
    "allocator = allocator_template(name='aggressive_allocator')\n",
    "allocator.allocate = lambda amount: {'stock': amount, 'bond': 0}"
   ]
  },
  {
   "cell_type": "code",
   "execution_count": null,
   "metadata": {},
   "outputs": [],
   "source": []
  },
  {
   "cell_type": "code",
   "execution_count": 112,
   "metadata": {},
   "outputs": [],
   "source": [
    "def epoch():\n",
    "    # receive salary\n",
    "    Salary.run()\n",
    "\n",
    "    # deposit salary into current account\n",
    "    Current_account.deposit(Salary.balance)\n",
    "\n",
    "    # accumulate expense to pay\n",
    "    Expense.run()\n",
    "    # withdraw from current account to pay expense\n",
    "    Current_account.withdraw(Expense.balance)\n",
    "\n",
    "    # loan 01 grows with interest rate\n",
    "    TFL_loan.run()\n",
    "    payment = TFL_loan.get_instalment_payment()\n",
    "    # with money from current account to pay loan\n",
    "    Current_account.withdraw(payment)\n",
    "    TFL_loan.pay_instalment(payment)\n",
    "\n",
    "    # loan 02 grows with interest rate\n",
    "    Dad_loan.run()\n",
    "    payment = Dad_loan.get_instalment_payment()\n",
    "    # with money from current account to pay loan\n",
    "    Current_account.withdraw(payment)\n",
    "    Dad_loan.pay_instalment(payment)\n",
    "\n",
    "    # estimate cash reserved needed\n",
    "    Cash_reserve.run()\n",
    "    reserve = Cash_reserve.balance\n",
    "\n",
    "    # get the amount of investable fund\n",
    "    investable_amount = Current_account.balance - reserve\n",
    "    # withdraw from current account\n",
    "    Current_account.withdraw(investable_amount)\n",
    "\n",
    "    # allocate to stock and bond investment accounts\n",
    "    investable_allocations = allocator.allocate(investable_amount)\n",
    "    # deposit to respective account\n",
    "    Stock_market.deposit(investable_allocations['stock'])\n",
    "    Bond_market .deposit(investable_allocations['bond'])\n",
    "    # investment product grows with presumed rate\n",
    "    Stock_market.run()\n",
    "    Bond_market.run()\n",
    "# end def"
   ]
  },
  {
   "cell_type": "code",
   "execution_count": null,
   "metadata": {},
   "outputs": [],
   "source": []
  },
  {
   "cell_type": "code",
   "execution_count": null,
   "metadata": {},
   "outputs": [],
   "source": []
  },
  {
   "cell_type": "code",
   "execution_count": null,
   "metadata": {},
   "outputs": [],
   "source": []
  },
  {
   "cell_type": "code",
   "execution_count": null,
   "metadata": {},
   "outputs": [],
   "source": []
  }
 ],
 "metadata": {
  "kernelspec": {
   "display_name": "Python 3",
   "language": "python",
   "name": "python3"
  },
  "language_info": {
   "codemirror_mode": {
    "name": "ipython",
    "version": 3
   },
   "file_extension": ".py",
   "mimetype": "text/x-python",
   "name": "python",
   "nbconvert_exporter": "python",
   "pygments_lexer": "ipython3",
   "version": "3.6.7"
  }
 },
 "nbformat": 4,
 "nbformat_minor": 2
}
